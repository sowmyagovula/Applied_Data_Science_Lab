{
 "cells": [
  {
   "cell_type": "markdown",
   "id": "14ed559a-89fc-4866-92e2-becfeefab02f",
   "metadata": {},
   "source": [
    "#### **Descriptive to Predictive Data Science**\n",
    "\n",
    "Focus is still real estate, but now to create a machine learning model that predicts apartment prices in Buenos Aires, Argentina.\n",
    "\n",
    "Learnings in the project are:\n",
    "\n",
    "* Creating linear regression model using the scikit-learn library.\n",
    "* Building a data pipeline for imputing missing values and encoding categorical features.\n",
    "* Improving model performance by reducing overfitting.\n",
    "* Creating a dynamic dashboard for interacting with your completed model."
   ]
  },
  {
   "cell_type": "code",
   "execution_count": null,
   "id": "182ea020-d330-4251-8eae-7250d5ea2911",
   "metadata": {},
   "outputs": [],
   "source": []
  }
 ],
 "metadata": {
  "kernelspec": {
   "display_name": "Python 3 (ipykernel)",
   "language": "python",
   "name": "python3"
  },
  "language_info": {
   "codemirror_mode": {
    "name": "ipython",
    "version": 3
   },
   "file_extension": ".py",
   "mimetype": "text/x-python",
   "name": "python",
   "nbconvert_exporter": "python",
   "pygments_lexer": "ipython3",
   "version": "3.11.0rc2"
  }
 },
 "nbformat": 4,
 "nbformat_minor": 5
}
