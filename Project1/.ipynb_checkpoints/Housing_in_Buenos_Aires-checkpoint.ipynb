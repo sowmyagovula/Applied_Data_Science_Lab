{
 "cells": [
  {
   "cell_type": "markdown",
   "id": "d3d07e64-fff5-48e7-ab07-ec96c07247de",
   "metadata": {},
   "source": [
    "**Descriptive to Predictive Data Science**\n",
    "\n",
    "Focus is still real estate, but now to create a machine learning model that predicts apartment prices in Buenos Aires, Argentina.\n",
    "\n",
    "Learnings in the project are:\n",
    "\n",
    "* Creating linear regression model using the scikit-learn library.\n",
    "* Building a data pipeline for imputing missing values and encoding categorical features.\n",
    "* Improving model performance by reducing overfitting.\n",
    "* Creating a dynamic dashboard for interacting with your completed model."
   ]
  },
  {
   "cell_type": "code",
   "execution_count": null,
   "id": "2df2459e-6152-4e2f-b26f-a0ceb1e63fcc",
   "metadata": {},
   "outputs": [],
   "source": []
  }
 ],
 "metadata": {
  "kernelspec": {
   "display_name": "Python 3 (ipykernel)",
   "language": "python",
   "name": "python3"
  },
  "language_info": {
   "codemirror_mode": {
    "name": "ipython",
    "version": 3
   },
   "file_extension": ".py",
   "mimetype": "text/x-python",
   "name": "python",
   "nbconvert_exporter": "python",
   "pygments_lexer": "ipython3",
   "version": "3.11.0rc2"
  }
 },
 "nbformat": 4,
 "nbformat_minor": 5
}
